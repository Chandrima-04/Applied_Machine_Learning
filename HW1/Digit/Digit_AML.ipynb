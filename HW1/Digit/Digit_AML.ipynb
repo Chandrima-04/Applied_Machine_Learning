{
 "cells": [
  {
   "cell_type": "code",
   "execution_count": 30,
   "metadata": {},
   "outputs": [
    {
     "name": "stdout",
     "output_type": "stream",
     "text": [
      "Question 1\n"
     ]
    }
   ],
   "source": [
    "print (\"Question 1\")"
   ]
  },
  {
   "cell_type": "code",
   "execution_count": 1,
   "metadata": {},
   "outputs": [],
   "source": [
    "import pandas as pd\n",
    "import numpy as np\n",
    "import matplotlib.pyplot as plt\n",
    "import matplotlib.image as mpimg\n",
    "from scipy.spatial.distance import pdist\n",
    "from sklearn.metrics.pairwise import euclidean_distances"
   ]
  },
  {
   "cell_type": "code",
   "execution_count": 2,
   "metadata": {},
   "outputs": [
    {
     "data": {
      "text/plain": [
       "(42000, 785)"
      ]
     },
     "execution_count": 2,
     "metadata": {},
     "output_type": "execute_result"
    }
   ],
   "source": [
    "# a: Import the train/test files from Digit Recognizer \n",
    "train = pd.read_csv('F:/Annie/CornellMS/Semester 4/Machine Learning/HW1/Digit/train.csv', delimiter=',')\n",
    "test = pd.read_csv('F:/Annie/CornellMS/Semester 4/Machine Learning/HW1/Digit/test.csv', delimiter=',')\n",
    "train.shape"
   ]
  },
  {
   "cell_type": "code",
   "execution_count": 3,
   "metadata": {},
   "outputs": [
    {
     "data": {
      "text/plain": [
       "<matplotlib.image.AxesImage at 0x250f4f3e860>"
      ]
     },
     "execution_count": 3,
     "metadata": {},
     "output_type": "execute_result"
    },
    {
     "data": {
      "image/png": "[encoded data removed]",
      "text/plain": [
       "<Figure size 432x288 with 1 Axes>"
      ]
     },
     "metadata": {},
     "output_type": "display_data"
    }
   ],
   "source": [
    "# b: Display one digit \n",
    "display_image = test.iloc[2]\n",
    "display_image = np.array(display_image, dtype='uint8')\n",
    "pixels = display_image.reshape((28, 28))\n",
    "plt.imshow(pixels, cmap='gray')"
   ]
  },
  {
   "cell_type": "code",
   "execution_count": 4,
   "metadata": {},
   "outputs": [
    {
     "data": {
      "image/png": "[encoded data removed]",
      "text/plain": [
       "<Figure size 432x288 with 10 Axes>"
      ]
     },
     "metadata": {},
     "output_type": "display_data"
    }
   ],
   "source": [
    "# b: Display one of each digit\n",
    "def display_digit(file):\n",
    "    unique = file['label'].unique()\n",
    "    digits = {}\n",
    "    for i in unique:\n",
    "        digits[i] = np.where(train.label==i)[0][:1]\n",
    "    fig, ax = plt.subplots(1, 10, sharex='col', sharey='row')\n",
    "    for i in unique:\n",
    "        display_image = train.iloc[list(digits.values())[i],1:785]\n",
    "        display_image = np.array(display_image, dtype='uint8')\n",
    "        pixels = display_image.reshape((28, 28))\n",
    "        ax[i].imshow(pixels, cmap='gray')\n",
    "display_digit(train)       "
   ]
  },
  {
   "cell_type": "code",
   "execution_count": 5,
   "metadata": {},
   "outputs": [
    {
     "name": "stdout",
     "output_type": "stream",
     "text": [
      "1    0.111524\n",
      "7    0.104786\n",
      "3    0.103595\n",
      "9    0.099714\n",
      "2    0.099452\n",
      "6    0.098500\n",
      "0    0.098381\n",
      "4    0.096952\n",
      "8    0.096738\n",
      "5    0.090357\n",
      "Name: label, dtype: float64\n"
     ]
    }
   ],
   "source": [
    "# c: Prior probabilities of each digit\n",
    "prior_prob = train['label'].value_counts(normalize=True)\n",
    "print (prior_prob)       \n",
    "# Yes, it is almost uniform across digit because probability of each digit is .1 approximately. "
   ]
  },
  {
   "cell_type": "code",
   "execution_count": 25,
   "metadata": {},
   "outputs": [
    {
     "name": "stdout",
     "output_type": "stream",
     "text": [
      "Answer \n",
      " The prior probabilities of each class is approximately 0.1, which is our expectation for nearly evenly distributed class of 10 categories of number.\n"
     ]
    }
   ],
   "source": [
    "print (\"Answer\", \"\\n\", \"The prior probabilities of each class is approximately 0.1, which is our expectation for nearly evenly distributed class of 10 categories of number.\")"
   ]
  },
  {
   "cell_type": "code",
   "execution_count": 6,
   "metadata": {},
   "outputs": [
    {
     "data": {
      "text/plain": [
       "(array([4132., 4684., 4177., 4351., 4072., 3795., 4137., 4401., 4063.,\n",
       "        4188.]),\n",
       " array([0. , 0.9, 1.8, 2.7, 3.6, 4.5, 5.4, 6.3, 7.2, 8.1, 9. ]),\n",
       " <a list of 10 Patch objects>)"
      ]
     },
     "execution_count": 6,
     "metadata": {},
     "output_type": "execute_result"
    },
    {
     "data": {
      "image/png": "[encoded data removed]",
      "text/plain": [
       "<Figure size 432x288 with 1 Axes>"
      ]
     },
     "metadata": {},
     "output_type": "display_data"
    }
   ],
   "source": [
    "# c: Normalized histogram for each digit\n",
    "plt.hist(train['label'], edgecolor='white',linewidth=1)\n",
    "\n",
    "# Yes, the following plot reflects that it is nearly even."
   ]
  },
  {
   "cell_type": "code",
   "execution_count": 27,
   "metadata": {},
   "outputs": [
    {
     "name": "stdout",
     "output_type": "stream",
     "text": [
      "Answer \n",
      " The following plot can be mostly called even. There are 42000 digits in the training set, hence we would expect each digit to have a representation of 4200 which we can see approximately from the histogram. We notice that the number of 1s are the maximum and the number of 5s is the least.\n"
     ]
    }
   ],
   "source": [
    "print (\"Answer\", \"\\n\", \"The following plot can be mostly called even. There are 42000 digits in the training set, hence we would expect each digit to have a representation of 4200 which we can see approximately from the histogram. We notice that the number of 1s are the maximum and the number of 5s is the least.\")"
   ]
  },
  {
   "cell_type": "code",
   "execution_count": 7,
   "metadata": {},
   "outputs": [
    {
     "name": "stdout",
     "output_type": "stream",
     "text": [
      "[1, 0, 16, 7, 3, 8, 21, 6, 10, 11]\n"
     ]
    }
   ],
   "source": [
    "# d: Select examples of each digit\n",
    "labels = np.asarray(train['label'])\n",
    "def example_sample(labels):\n",
    "    result = []\n",
    "    for i in range(10):\n",
    "        indices = np.where(labels == i)\n",
    "        index = indices[0][0]\n",
    "        result.append(index)\n",
    "    return result\n",
    "examples = example_sample(labels)\n",
    "print(examples)"
   ]
  },
  {
   "cell_type": "code",
   "execution_count": 8,
   "metadata": {},
   "outputs": [
    {
     "name": "stdout",
     "output_type": "stream",
     "text": [
      "[[1046.5954328201515, 12950], [489.67948701165744, 29704], [1380.877257398354, 9536], [1832.6649993929605, 8981], [1356.8809822530493, 14787], [1066.3676664265472, 30073], [1446.5113203843239, 16240], [863.5010133172977, 15275], [1593.7775879965184, 32586], [910.5767403135224, 35742]]\n"
     ]
    }
   ],
   "source": [
    "# Calculate L2 distance\n",
    "pixels = np.asarray(train[train.columns[1:]])\n",
    "def nearest_points(example, data):\n",
    "    nearest = []\n",
    "    for e in example:\n",
    "        target = data[e]\n",
    "        dis = float('inf')\n",
    "        for d in range(len(data)):\n",
    "            if d == e:\n",
    "                continue\n",
    "            else:\n",
    "                distance = np.linalg.norm(target - data[d])\n",
    "                if distance < dis:\n",
    "                    dis = distance\n",
    "                    point = d\n",
    "        nearest.append([dis, point])\n",
    "    return nearest\n",
    "nearest = nearest_points(examples, pixels)\n",
    "print (nearest)"
   ]
  },
  {
   "cell_type": "code",
   "execution_count": 9,
   "metadata": {},
   "outputs": [
    {
     "name": "stdout",
     "output_type": "stream",
     "text": [
      "[[1, 0], [0, 1], [16, 2], [7, 5, '*'], [3, 4], [8, 5], [21, 6], [6, 7], [10, 8], [11, 9]]\n"
     ]
    }
   ],
   "source": [
    "# print error examples\n",
    "error_examples = []\n",
    "for i in range(len(nearest)):\n",
    "    if labels[nearest[i][1]] == labels[examples[i]]:\n",
    "        error_examples += [[examples[i], labels[examples[i]]]]\n",
    "    else:\n",
    "        error_examples += [[examples[i], labels[nearest[i][1]], '*']]\n",
    "print(error_examples)"
   ]
  },
  {
   "cell_type": "code",
   "execution_count": 10,
   "metadata": {},
   "outputs": [],
   "source": [
    "# e: Genuine and imposters\n",
    "digit_0 = np.array(train[train.columns[1:]][train.label == 0])\n",
    "digit_1 = np.array(train[train.columns[1:]][train.label == 1])\n",
    "genuine_0 = np.append([], pdist(digit_0))\n",
    "genuine_1 = np.append([], pdist(digit_1))\n",
    "imposter = euclidean_distances(digit_0, digit_1)"
   ]
  },
  {
   "cell_type": "code",
   "execution_count": 11,
   "metadata": {},
   "outputs": [
    {
     "data": {
      "text/plain": [
       "<matplotlib.legend.Legend at 0x2509afc27f0>"
      ]
     },
     "execution_count": 11,
     "metadata": {},
     "output_type": "execute_result"
    },
    {
     "data": {
      "image/png": "[encoded data removed]",
      "text/plain": [
       "<Figure size 432x288 with 1 Axes>"
      ]
     },
     "metadata": {},
     "output_type": "display_data"
    }
   ],
   "source": [
    "# Plot genuine and imposters\n",
    "plt.hist(np.append(genuine_0, genuine_1), alpha = 0.5, label = 'genuine')\n",
    "plt.hist(imposter.flatten(), alpha = 0.5, label = 'imposter')\n",
    "plt.legend(loc='upper right')"
   ]
  },
  {
   "cell_type": "code",
   "execution_count": 12,
   "metadata": {},
   "outputs": [],
   "source": [
    "# f: ROC curve generation\n",
    "def roc(genuine, imposter):\n",
    "    theta = np.linspace(min(genuine), max(imposter) + 1, 1000)\n",
    "    tpr = np.array([])\n",
    "    fpr = np.array([])\n",
    "    for t in theta:\n",
    "        tp = np.sum(genuine < t)\n",
    "        fp = np.sum(imposter < t)\n",
    "        fn = len(genuine) - np.sum(genuine < t)\n",
    "        tn = len(imposter) - np.sum(imposter < t)\n",
    "        tpr = np.append(tpr, tp/(tp + fn))\n",
    "        fpr = np.append(fpr, fp/(fp + tn))\n",
    "    return tpr, fpr"
   ]
  },
  {
   "cell_type": "code",
   "execution_count": 13,
   "metadata": {},
   "outputs": [
    {
     "data": {
      "text/plain": [
       "Text(0,0.5,'True Positive Rate')"
      ]
     },
     "execution_count": 13,
     "metadata": {},
     "output_type": "execute_result"
    },
    {
     "data": {
      "image/png": "[encoded data removed]",
      "text/plain": [
       "<Figure size 432x288 with 1 Axes>"
      ]
     },
     "metadata": {},
     "output_type": "display_data"
    }
   ],
   "source": [
    "tpr, fpr = roc(np.append(genuine_0, genuine_1), imposter.flatten())\n",
    "# Plot ROC curve\n",
    "fig = plt.figure()\n",
    "plt.plot(fpr, tpr)\n",
    "plt.plot([0, 1], [0, 1], ':')\n",
    "plt.xlabel('False Postive Rate', fontsize=16)\n",
    "plt.ylabel('True Positive Rate', fontsize=16)"
   ]
  },
  {
   "cell_type": "code",
   "execution_count": 14,
   "metadata": {},
   "outputs": [
    {
     "data": {
      "text/plain": [
       "[<matplotlib.lines.Line2D at 0x2509b081748>]"
      ]
     },
     "execution_count": 14,
     "metadata": {},
     "output_type": "execute_result"
    },
    {
     "data": {
      "image/png": "[encoded data removed]",
      "text/plain": [
       "<Figure size 432x288 with 1 Axes>"
      ]
     },
     "metadata": {},
     "output_type": "display_data"
    }
   ],
   "source": [
    "fnr = 1 - tpr\n",
    "theta = np.linspace(min(np.append(genuine_0, genuine_1)), max(imposter.flatten()) + 1, 1000)\n",
    "fig = plt.figure()\n",
    "plt.plot(theta, fpr, 'r')\n",
    "plt.plot(theta, fnr, 'b')"
   ]
  },
  {
   "cell_type": "code",
   "execution_count": 15,
   "metadata": {},
   "outputs": [
    {
     "data": {
      "text/plain": [
       "0.1865334958330681"
      ]
     },
     "execution_count": 15,
     "metadata": {},
     "output_type": "execute_result"
    }
   ],
   "source": [
    "# Equal error generation \n",
    "def equalError(fpr, fnr):\n",
    "    diff = fpr - fnr\n",
    "    for i in range(len(diff)):\n",
    "        if diff[i] > 0:\n",
    "            break\n",
    "    return (fpr[i - 1] + fpr[i])/2\n",
    "equalError(fpr, fnr)"
   ]
  },
  {
   "cell_type": "code",
   "execution_count": 29,
   "metadata": {},
   "outputs": [
    {
     "name": "stdout",
     "output_type": "stream",
     "text": [
      "Answer \n",
      " When we have a 2-class problem, and a majority occuring class in it, random guess might work decently well, especially when we output the major class. But when data-classes increases, error rate of random guess will start increasing. Random guess should not be used because we are not trying to find the features and weighing them to output class, hence usually there is possibility of incurring a high error rate.\n"
     ]
    }
   ],
   "source": [
    "# When a classifier guesses randomly, error rate will be high if it is a multiclass problem but if it is a 2-class problem\n",
    "# Also, probability of occurence of each class affects the error rate\n",
    "print (\"Answer\", \"\\n\", \"When we have a 2-class problem, and a majority occuring class in it, random guess might work decently well, especially when we output the major class. But when data-classes increases, error rate of random guess will start increasing. Random guess should not be used because we are not trying to find the features and weighing them to output class, hence usually there is possibility of incurring a high error rate.\")"
   ]
  },
  {
   "cell_type": "code",
   "execution_count": 16,
   "metadata": {},
   "outputs": [],
   "source": [
    "# g: knn implementation\n",
    "#def split_data(data):\n",
    "#    data = np.array(data)\n",
    "#    np.random.shuffle(data)\n",
    "#    return [data[i::n] for i in range(n)]\n",
    "\n",
    "def knn(tr, te, k):\n",
    "    tr_label = tr.T[0].T\n",
    "    te_label = te.T[0].T\n",
    "    tr_data = tr.T[1:].T\n",
    "    te_data = te.T[1:].T\n",
    "    y_hat = np.zeros(len(te_label))\n",
    "    for i in range(len(te_data)):\n",
    "        distance = euclidean_distances([te_data[i]], tr_data)\n",
    "        ind = np.argpartition(distance[0], k)[:k]\n",
    "        nearest = tr_label[ind]\n",
    "        counts = np.bincount(nearest)\n",
    "        y_hat[i] = np.argmax(counts)\n",
    "        if i % 1000 == 0: print(i)\n",
    "    accuracy = sum(y_hat==te_label)/len(te_label)\n",
    "    print(\"Accuracy: \", accuracy)\n",
    "    return y_hat, accuracy"
   ]
  },
  {
   "cell_type": "code",
   "execution_count": 17,
   "metadata": {},
   "outputs": [
    {
     "name": "stdout",
     "output_type": "stream",
     "text": [
      "42000 [0.0, 14000.0, 28000.0, 42000.0]\n",
      "0.0 14000.0 14000.0 28000.0 28000.0 42000.0\n",
      "(28000, 785) (14000, 785)\n",
      "0\n",
      "1000\n",
      "2000\n",
      "3000\n",
      "4000\n",
      "5000\n",
      "6000\n",
      "7000\n",
      "8000\n",
      "9000\n",
      "10000\n",
      "11000\n",
      "12000\n",
      "13000\n",
      "Accuracy:  0.9637857142857142\n",
      "14000.0 28000.0 28000.0 42000.0 0.0 14000.0\n",
      "(28000, 785) (14000, 785)\n",
      "0\n",
      "1000\n",
      "2000\n",
      "3000\n",
      "4000\n",
      "5000\n",
      "6000\n",
      "7000\n",
      "8000\n",
      "9000\n",
      "10000\n",
      "11000\n",
      "12000\n",
      "13000\n",
      "Accuracy:  0.9656428571428571\n",
      "28000.0 42000.0 0.0 14000.0 14000.0 28000.0\n",
      "(28000, 785) (14000, 785)\n",
      "0\n",
      "1000\n",
      "2000\n",
      "3000\n",
      "4000\n",
      "5000\n",
      "6000\n",
      "7000\n",
      "8000\n",
      "9000\n",
      "10000\n",
      "11000\n",
      "12000\n",
      "13000\n",
      "Accuracy:  0.9641428571428572\n"
     ]
    }
   ],
   "source": [
    "# h: 3-fold classification\n",
    "#data = split_data(train, 3)\n",
    "three = [i for i in np.linspace(0, len(train),4)]\n",
    "print (train.shape[0], three)\n",
    "data = np.array(train)\n",
    "np.random.shuffle(data)\n",
    "sol = []\n",
    "for i in range(0, 3):\n",
    "    t1, t2, t3, t4, t5, t6 = three[i], three[i+1], three[(i+1)%3], three[(i+1)%3 +1], three[(i+2)%3], three[(i+2)%3 +1]\n",
    "    print (t1, t2, t3, t4, t5, t6 )\n",
    "    test_val = data[int(t1):int(t2),:]\n",
    "    train_val = np.concatenate((data[int(t3):int(t4),:], data[int(t5):int(t6),:]), axis=0)\n",
    "    print (train_val.shape, test_val.shape)\n",
    "    y, acc = knn(train_val, test_val, 5)\n",
    "    sol += [y, acc]"
   ]
  },
  {
   "cell_type": "code",
   "execution_count": 18,
   "metadata": {},
   "outputs": [
    {
     "name": "stdout",
     "output_type": "stream",
     "text": [
      "0.9641428571428572\n"
     ]
    }
   ],
   "source": [
    "# Average accuracy\n",
    "print (np.mean(acc))"
   ]
  },
  {
   "cell_type": "code",
   "execution_count": 19,
   "metadata": {},
   "outputs": [
    {
     "data": {
      "text/plain": [
       "array([[1427,    0,    8,    1,    1,    5,    8,    0,    6,    6],\n",
       "       [   0, 1572,   20,    4,   11,    3,    5,   20,   18,    6],\n",
       "       [   2,    5, 1349,    6,    0,    1,    0,    3,    3,    4],\n",
       "       [   0,    1,    5, 1387,    0,   25,    0,    1,   25,    9],\n",
       "       [   0,    0,    1,    0, 1316,    2,    2,    6,    8,   14],\n",
       "       [   1,    0,    1,   13,    0, 1179,    6,    0,   19,    1],\n",
       "       [   6,    1,    3,    2,    8,   15, 1341,    0,    4,    0],\n",
       "       [   1,    5,   30,    7,    2,    0,    0, 1373,    5,   28],\n",
       "       [   0,    0,    2,    6,    1,    3,    1,    0, 1266,    2],\n",
       "       [   1,    1,    1,    7,   30,    8,    0,   18,   18, 1288]],\n",
       "      dtype=uint16)"
      ]
     },
     "execution_count": 19,
     "metadata": {},
     "output_type": "execute_result"
    }
   ],
   "source": [
    "# i: Confusion matrix\n",
    "test_label = test_val.T[0].T\n",
    "def confusion(y_hat, y):\n",
    "    table = np.zeros(shape=(10,10), dtype = np.uint16)\n",
    "    np.set_printoptions(precision=0)\n",
    "    for i in range(0, len(y_hat)):\n",
    "        table[int(y_hat[i])][y[i]] += 1\n",
    "    return table\n",
    "confusion(sol[4:6][0], test_label)"
   ]
  },
  {
   "cell_type": "code",
   "execution_count": 20,
   "metadata": {},
   "outputs": [],
   "source": [
    "#j : Train-test classification using the entire data\n",
    "def knn_classifier(tr, te, k):\n",
    "    tr_label = tr.T[0].T\n",
    "    tr_data = tr.T[1:].T\n",
    "    y_hat = np.zeros(len(te))\n",
    "    for i in range(len(te)):\n",
    "        distance = euclidean_distances([te[i]], tr_data)\n",
    "        ind = np.argpartition(distance[0], k)[:k]\n",
    "        nearest = tr_label[ind]\n",
    "        counts = np.bincount(nearest)\n",
    "        y_hat[i] = np.argmax(counts)\n",
    "        if i % 1000 == 0: print(i)\n",
    "    return y_hat"
   ]
  },
  {
   "cell_type": "code",
   "execution_count": 21,
   "metadata": {},
   "outputs": [
    {
     "name": "stdout",
     "output_type": "stream",
     "text": [
      "0\n",
      "1000\n",
      "2000\n",
      "3000\n",
      "4000\n",
      "5000\n",
      "6000\n",
      "7000\n",
      "8000\n",
      "9000\n",
      "10000\n",
      "11000\n",
      "12000\n",
      "13000\n",
      "14000\n",
      "15000\n",
      "16000\n",
      "17000\n",
      "18000\n",
      "19000\n",
      "20000\n",
      "21000\n",
      "22000\n",
      "23000\n",
      "24000\n",
      "25000\n",
      "26000\n",
      "27000\n"
     ]
    }
   ],
   "source": [
    "train_data = np.array(train)\n",
    "test_data = np.array(test)\n",
    "test_labels = knn_classifier(train_data, test_data, 5)"
   ]
  },
  {
   "cell_type": "code",
   "execution_count": 24,
   "metadata": {},
   "outputs": [],
   "source": [
    "final_out = pd.DataFrame(test_labels, columns=['Label'])\n",
    "final_out['ImageId'] = range(1, len(final_out) + 1)\n",
    "final_out = final_out.set_index('ImageId')\n",
    "final_out.to_csv('F:/Annie/CornellMS/Semester 4/Machine Learning/HW1/Digit/Digit_Submission.csv')"
   ]
  },
  {
   "cell_type": "code",
   "execution_count": null,
   "metadata": {},
   "outputs": [],
   "source": []
  },
  {
   "cell_type": "code",
   "execution_count": null,
   "metadata": {},
   "outputs": [],
   "source": []
  }
 ],
 "metadata": {
  "kernelspec": {
   "display_name": "Python 3",
   "language": "python",
   "name": "python3"
  },
  "language_info": {
   "codemirror_mode": {
    "name": "ipython",
    "version": 3
   },
   "file_extension": ".py",
   "mimetype": "text/x-python",
   "name": "python",
   "nbconvert_exporter": "python",
   "pygments_lexer": "ipython3",
   "version": "3.6.5"
  }
 },
 "nbformat": 4,
 "nbformat_minor": 2
}
