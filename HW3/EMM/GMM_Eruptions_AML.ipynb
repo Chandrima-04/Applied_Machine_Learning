{
 "cells": [
  {
   "cell_type": "code",
   "execution_count": 17,
   "metadata": {},
   "outputs": [
    {
     "data": {
      "text/plain": [
       "'Question 3'"
      ]
     },
     "execution_count": 17,
     "metadata": {},
     "output_type": "execute_result"
    }
   ],
   "source": [
    "\"\"\"Question 3\"\"\""
   ]
  },
  {
   "cell_type": "code",
   "execution_count": 1,
   "metadata": {
    "colab": {},
    "colab_type": "code",
    "id": "VG-psBXUrPVI"
   },
   "outputs": [],
   "source": [
    "import pandas as pd\n",
    "import numpy as np\n",
    "from sklearn.mixture import GaussianMixture\n",
    "from sklearn import cluster\n",
    "import collections\n",
    "import operator\n",
    "import matplotlib.pylab as plt\n",
    "import os\n",
    "import sys\n",
    "import warnings"
   ]
  },
  {
   "cell_type": "code",
   "execution_count": 55,
   "metadata": {},
   "outputs": [],
   "source": [
    "#a: Kmeans is a special case of EM Algorithm"
   ]
  },
  {
   "cell_type": "code",
   "execution_count": 56,
   "metadata": {},
   "outputs": [
    {
     "data": {
      "text/latex": [
       "K-mean is a special case of EM algorithm. \n",
       "It sets the probability of hidden clusters given input $y_i$ and model parameter $\\theta$, i.e., responsibilities $\\gamma_{i}^{z}$ as binary 0 and 1."
      ],
      "text/plain": [
       "<IPython.core.display.Latex object>"
      ]
     },
     "metadata": {},
     "output_type": "display_data"
    }
   ],
   "source": [
    "%%latex\n",
    "K-mean is a special case of EM algorithm. \n",
    "It sets the probability of hidden clusters given input $y_i$ and model parameter $\\theta$, i.e., responsibilities $\\gamma_{i}^{z}$ as binary 0 and 1."
   ]
  },
  {
   "cell_type": "code",
   "execution_count": 54,
   "metadata": {},
   "outputs": [
    {
     "data": {
      "text/latex": [
       "1. E-step: Compute responsibilities $\\gamma_{i}^{z}$ to determnine whether data $i$ belong to cluster $z$ or not.\n",
       "$$\n",
       "\\gamma_{i}^{z} = \n",
       "\\begin{cases}\n",
       "    1, & \\quad \\text{when } z=\\underset{z}{argmin} \\parallel y_i-\\mu_z \\parallel \\\\\n",
       "    0, & \\quad \\text{other}\n",
       "\\end{cases}\n",
       "$$"
      ],
      "text/plain": [
       "<IPython.core.display.Latex object>"
      ]
     },
     "metadata": {},
     "output_type": "display_data"
    }
   ],
   "source": [
    "%%latex\n",
    "1. E-step: Compute responsibilities $\\gamma_{i}^{z}$ to determnine whether data $i$ belong to cluster $z$ or not.\n",
    "$$\n",
    "\\gamma_{i}^{z} = \n",
    "\\begin{cases}\n",
    "    1, & \\quad \\text{when } z=\\underset{z}{argmin} \\parallel y_i-\\mu_z \\parallel \\\\\n",
    "    0, & \\quad \\text{other}\n",
    "\\end{cases}\n",
    "$$"
   ]
  },
  {
   "cell_type": "code",
   "execution_count": 53,
   "metadata": {},
   "outputs": [
    {
     "data": {
      "text/latex": [
       "2. M-step: Update new cluster centres based on responsibilities.\n",
       "$$\n",
       "\\mu^{z}=\\frac{\\sum_{i=1}^{N}{\\gamma_{i}^{z}y_i}}{\\sum_{i=1}^{N}{\\gamma_{i}^{z}}}\n",
       "$$\n",
       "\n",
       "3. Iterate E-step and M-step until $\\gamma_{i}^{z}$ does not change or reaches maximum iteration."
      ],
      "text/plain": [
       "<IPython.core.display.Latex object>"
      ]
     },
     "metadata": {},
     "output_type": "display_data"
    }
   ],
   "source": [
    "%%latex\n",
    "2. M-step: Update new cluster centres based on responsibilities.\n",
    "$$\n",
    "\\mu^{z}=\\frac{\\sum_{i=1}^{N}{\\gamma_{i}^{z}y_i}}{\\sum_{i=1}^{N}{\\gamma_{i}^{z}}}\n",
    "$$\n",
    "\n",
    "3. Iterate E-step and M-step until $\\gamma_{i}^{z}$ does not change or reaches maximum iteration."
   ]
  },
  {
   "cell_type": "code",
   "execution_count": 3,
   "metadata": {
    "colab": {},
    "colab_type": "code",
    "id": "tq-lPu8mrPVN"
   },
   "outputs": [
    {
     "name": "stdout",
     "output_type": "stream",
     "text": [
      "(272, 2) \n",
      "    eruptions  waiting\n",
      "0      3.600       79\n",
      "1      1.800       54\n",
      "2      3.333       74\n",
      "3      2.283       62\n",
      "4      4.533       85\n"
     ]
    }
   ],
   "source": [
    "#b: Import data \n",
    "data = pd.read_csv(r'F:/Annie/CornellMS/Semester 4/Machine Learning/Homework/HW3/EMM/faithful.dat', skiprows = 26, delimiter=r\"\\s+\", names=['id', 'eruptions', 'waiting'])\n",
    "data = data.drop(['id'], axis =1)\n",
    "print (data.shape, \"\\n\", data.head())"
   ]
  },
  {
   "cell_type": "code",
   "execution_count": 4,
   "metadata": {
    "colab": {},
    "colab_type": "code",
    "id": "-ejEIKtUrPVR"
   },
   "outputs": [
    {
     "data": {
      "text/plain": [
       "Text(0, 0.5, 'waiting')"
      ]
     },
     "execution_count": 4,
     "metadata": {},
     "output_type": "execute_result"
    },
    {
     "data": {
      "image/png": "[encoded data removed]",
      "text/plain": [
       "<Figure size 432x288 with 1 Axes>"
      ]
     },
     "metadata": {},
     "output_type": "display_data"
    }
   ],
   "source": [
    "# Parse and plot all the data in 2D plane\n",
    "plt.scatter(data['eruptions'], data['waiting'])\n",
    "plt.xlabel('eruptions')\n",
    "plt.ylabel('waiting')"
   ]
  },
  {
   "cell_type": "code",
   "execution_count": 5,
   "metadata": {
    "colab": {},
    "colab_type": "code",
    "id": "NrLrpqeRrPVX"
   },
   "outputs": [],
   "source": [
    "#c: Fitting Gaussian-bimodal distribution\n",
    "def Gaussian(data):\n",
    "    clf = GaussianMixture(n_components=2, covariance_type='spherical', init_params='random')\n",
    "    clf.fit(data)\n",
    "    print (\"No of steps needed for convergence is \", clf.n_iter_)\n",
    "    return clf.n_iter_"
   ]
  },
  {
   "cell_type": "code",
   "execution_count": 13,
   "metadata": {
    "colab": {},
    "colab_type": "code",
    "id": "w0nv5b6TrPVa"
   },
   "outputs": [
    {
     "name": "stdout",
     "output_type": "stream",
     "text": [
      "22\n",
      "[ 3.553681   71.75474281  3.553681   71.75474281  3.63371201 72.78955978\n",
      "  3.80122152 74.93280261  4.07148465 78.23883498  4.27797922 80.42992638\n",
      "  4.3215886  80.75738068  4.31255202 80.53724865  4.30357977 80.38438983\n",
      "  4.29825768 80.31355451  4.29569169 80.2841132 ] \n",
      " [ 3.42051106 70.02149023  3.42051106 70.02149023  3.33868125 68.96340945\n",
      "  3.16427617 66.73167602  2.8390941  62.73787319  2.41323538 57.93379497\n",
      "  2.22549049 55.9695833   2.15427524 55.31054945  2.11836474 54.97136858\n",
      "  2.1048929  54.82995479  2.10031448 54.77612238]\n"
     ]
    }
   ],
   "source": [
    "# Plot trajectories of two mean vectors in 2-dimensions\n",
    "if not sys.warnoptions:\n",
    "    warnings.simplefilter(\"ignore\")\n",
    "\n",
    "clf = GaussianMixture(n_components=2, covariance_type='spherical', init_params='random', warm_start=True, max_iter=1)\n",
    "clf.fit(data)\n",
    "\n",
    "means1 = clf.means_[0]\n",
    "means2 = clf.means_[1]\n",
    "\n",
    "while (not clf.converged_):\n",
    "    means1 = np.append(means1, clf.means_[0])\n",
    "    means2 = np.append(means2, clf.means_[1])\n",
    "    clf.fit(data)\n",
    "length = len(means2)\n",
    "print (length)\n",
    "print (means1, \"\\n\", means2)"
   ]
  },
  {
   "cell_type": "code",
   "execution_count": 14,
   "metadata": {},
   "outputs": [
    {
     "data": {
      "image/png": "[encoded data removed]",
      "text/plain": [
       "<Figure size 432x288 with 1 Axes>"
      ]
     },
     "metadata": {},
     "output_type": "display_data"
    }
   ],
   "source": [
    "# Plot the means \n",
    "means1 = means1.reshape((-1,2))\n",
    "means2 = means2.reshape((-1,2))\n",
    "means1 = pd.DataFrame({'x': means1[:,0], 'y': means1[:,1]})\n",
    "means2 = pd.DataFrame({'x': means2[:,0], 'y': means2[:,1]})\n",
    "\n",
    "plt.plot(means1['x'], means1['y'], label = 'mean1')\n",
    "plt.plot(means2['x'], means2['y'], label = 'mean2')\n",
    "\n",
    "plt.plot(means1['x'][:1], means1['y'][:1], 'o-',c='green', label=\"start\")\n",
    "plt.plot(means2['x'][:1], means2['y'][:1], 'o-',c='green')\n",
    "\n",
    "plt.plot(means1['x'][-1:], means1['y'][-1:], 'o-',c='red', label=\"end\")\n",
    "plt.plot(means2['x'][-1:], means2['y'][-1:], 'o-',c='red')\n",
    "\n",
    "plt.scatter(data['eruptions'], data['waiting'])\n",
    "plt.xlabel('eruptions')\n",
    "plt.ylabel('waiting')\n",
    "\n",
    "plt.title('Mean trajectory')\n",
    "plt.show()"
   ]
  },
  {
   "cell_type": "code",
   "execution_count": 15,
   "metadata": {},
   "outputs": [
    {
     "data": {
      "text/plain": [
       "'The termination criteria was to continue iterating until the function converges (using converge_ function defined in scikit learn). I believed this would produce the greatest accuracy with a reasonable number of iterations. '"
      ]
     },
     "execution_count": 15,
     "metadata": {},
     "output_type": "execute_result"
    }
   ],
   "source": [
    "# Termination Criteria\n",
    "\"\"\"The termination criteria was to continue iterating until the function converges (using converge_ function defined in scikit learn). I believed this would produce the greatest accuracy with a reasonable number of iterations. \"\"\""
   ]
  },
  {
   "cell_type": "code",
   "execution_count": 8,
   "metadata": {},
   "outputs": [
    {
     "name": "stdout",
     "output_type": "stream",
     "text": [
      "No of steps needed for convergence is  2\n",
      "No of steps needed for convergence is  10\n",
      "No of steps needed for convergence is  11\n",
      "No of steps needed for convergence is  11\n",
      "No of steps needed for convergence is  10\n",
      "No of steps needed for convergence is  2\n",
      "No of steps needed for convergence is  2\n",
      "No of steps needed for convergence is  2\n",
      "No of steps needed for convergence is  2\n",
      "No of steps needed for convergence is  11\n",
      "No of steps needed for convergence is  12\n",
      "No of steps needed for convergence is  2\n",
      "No of steps needed for convergence is  10\n",
      "No of steps needed for convergence is  9\n",
      "No of steps needed for convergence is  11\n",
      "No of steps needed for convergence is  2\n",
      "No of steps needed for convergence is  10\n",
      "No of steps needed for convergence is  11\n",
      "No of steps needed for convergence is  11\n",
      "No of steps needed for convergence is  11\n",
      "No of steps needed for convergence is  11\n",
      "No of steps needed for convergence is  11\n",
      "No of steps needed for convergence is  11\n",
      "No of steps needed for convergence is  2\n",
      "No of steps needed for convergence is  2\n",
      "No of steps needed for convergence is  10\n",
      "No of steps needed for convergence is  10\n",
      "No of steps needed for convergence is  2\n",
      "No of steps needed for convergence is  2\n",
      "No of steps needed for convergence is  10\n",
      "No of steps needed for convergence is  2\n",
      "No of steps needed for convergence is  2\n",
      "No of steps needed for convergence is  2\n",
      "No of steps needed for convergence is  12\n",
      "No of steps needed for convergence is  11\n",
      "No of steps needed for convergence is  10\n",
      "No of steps needed for convergence is  2\n",
      "No of steps needed for convergence is  2\n",
      "No of steps needed for convergence is  11\n",
      "No of steps needed for convergence is  10\n",
      "No of steps needed for convergence is  2\n",
      "No of steps needed for convergence is  11\n",
      "No of steps needed for convergence is  2\n",
      "No of steps needed for convergence is  11\n",
      "No of steps needed for convergence is  2\n",
      "No of steps needed for convergence is  11\n",
      "No of steps needed for convergence is  2\n",
      "No of steps needed for convergence is  10\n",
      "No of steps needed for convergence is  11\n",
      "No of steps needed for convergence is  10\n"
     ]
    }
   ],
   "source": [
    "# Run GMM model for 50 times and plot the distribution\n",
    "iterations = []\n",
    "for i in range(50):\n",
    "    step = Gaussian(data)\n",
    "    iterations.append(step)\n",
    "counts = collections.Counter(iterations)\n",
    "max_count = sorted(counts.items(), key=operator.itemgetter(1))[-1][1]\n",
    "max_step = sorted(counts.items(), key=operator.itemgetter(0))[-1][0]"
   ]
  },
  {
   "cell_type": "code",
   "execution_count": 9,
   "metadata": {},
   "outputs": [
    {
     "data": {
      "image/png": "[encoded data removed]",
      "text/plain": [
       "<Figure size 864x432 with 1 Axes>"
      ]
     },
     "metadata": {},
     "output_type": "display_data"
    }
   ],
   "source": [
    "# Plot bar graph for 50 run\n",
    "fig, ax = plt.subplots()\n",
    "fig.set_size_inches(12, 6)\n",
    "n, bins, patches = plt.hist(iterations, len(iterations)+2, facecolor='b', alpha=0.75)\n",
    "plt.xlabel('Iterations')\n",
    "plt.ylabel('Times')\n",
    "plt.title('Converging iteration distribution')\n",
    "plt.axis([0, max_step+2, 0, max_count+1])\n",
    "plt.grid(True)\n",
    "plt.show()"
   ]
  },
  {
   "cell_type": "code",
   "execution_count": 10,
   "metadata": {},
   "outputs": [],
   "source": [
    "# d: K-mean neighbor distribution\n",
    "def Gaussian_kmean(data, data_mean, data_covar, data_label):\n",
    "    clf = GaussianMixture(n_components=2, covariance_type='spherical', precisions_init=1/data_covar, means_init=data_means,\n",
    "                          init_params='kmeans', weights_init=pd.Series(data_label).value_counts(normalize=True,sort=False))\n",
    "    clf.fit(data)\n",
    "    print (\"No of steps needed for convergence is \", clf.n_iter_)\n",
    "    return clf.n_iter_"
   ]
  },
  {
   "cell_type": "code",
   "execution_count": 11,
   "metadata": {},
   "outputs": [],
   "source": [
    "# Estimate the first guess of the mean and covariance matrices using maximum likelihood over the labeled data points\n",
    "clf = cluster.KMeans(n_clusters=2, init = 'random')\n",
    "clf.fit(data)\n",
    "\n",
    "clusters = clf.labels_\n",
    "data1 = data[clusters == 0]\n",
    "data2 = data[clusters == 1]\n",
    "data1_mean = np.array(data1.mean(axis = 0))\n",
    "data2_mean = np.array(data2.mean(axis = 0))\n",
    "data_means = np.concatenate((data1_mean, data2_mean)).reshape(2,2)\n",
    "\n",
    "data1_var = data1.var().mean()\n",
    "data2_var = data2.var().mean()\n",
    "\n",
    "data_covar = np.array([data1_var, data2_var])\n",
    "\n",
    "gmm_kmeans_init = GaussianMixture(n_components=2, covariance_type = 'spherical', warm_start=True, means_init=data_means,\n",
    "                                  weights_init=pd.Series(clf.labels_).value_counts(normalize=True, sort=False),\n",
    "                                  precisions_init=1/data_covar).fit(data)"
   ]
  },
  {
   "cell_type": "code",
   "execution_count": 12,
   "metadata": {},
   "outputs": [
    {
     "name": "stdout",
     "output_type": "stream",
     "text": [
      "No of steps needed for convergence is  6\n",
      "No of steps needed for convergence is  6\n",
      "No of steps needed for convergence is  6\n",
      "No of steps needed for convergence is  6\n",
      "No of steps needed for convergence is  6\n",
      "No of steps needed for convergence is  6\n",
      "No of steps needed for convergence is  6\n",
      "No of steps needed for convergence is  6\n",
      "No of steps needed for convergence is  6\n",
      "No of steps needed for convergence is  6\n",
      "No of steps needed for convergence is  6\n",
      "No of steps needed for convergence is  6\n",
      "No of steps needed for convergence is  6\n",
      "No of steps needed for convergence is  6\n",
      "No of steps needed for convergence is  6\n",
      "No of steps needed for convergence is  6\n",
      "No of steps needed for convergence is  6\n",
      "No of steps needed for convergence is  6\n",
      "No of steps needed for convergence is  6\n",
      "No of steps needed for convergence is  6\n",
      "No of steps needed for convergence is  6\n",
      "No of steps needed for convergence is  6\n",
      "No of steps needed for convergence is  6\n",
      "No of steps needed for convergence is  6\n",
      "No of steps needed for convergence is  6\n",
      "No of steps needed for convergence is  6\n",
      "No of steps needed for convergence is  6\n",
      "No of steps needed for convergence is  6\n",
      "No of steps needed for convergence is  6\n",
      "No of steps needed for convergence is  6\n",
      "No of steps needed for convergence is  6\n",
      "No of steps needed for convergence is  6\n",
      "No of steps needed for convergence is  6\n",
      "No of steps needed for convergence is  6\n",
      "No of steps needed for convergence is  6\n",
      "No of steps needed for convergence is  6\n",
      "No of steps needed for convergence is  6\n",
      "No of steps needed for convergence is  6\n",
      "No of steps needed for convergence is  6\n",
      "No of steps needed for convergence is  6\n",
      "No of steps needed for convergence is  6\n",
      "No of steps needed for convergence is  6\n",
      "No of steps needed for convergence is  6\n",
      "No of steps needed for convergence is  6\n",
      "No of steps needed for convergence is  6\n",
      "No of steps needed for convergence is  6\n",
      "No of steps needed for convergence is  6\n",
      "No of steps needed for convergence is  6\n",
      "No of steps needed for convergence is  6\n",
      "No of steps needed for convergence is  6\n"
     ]
    },
    {
     "data": {
      "image/png": "[encoded data removed]",
      "text/plain": [
       "<Figure size 864x432 with 1 Axes>"
      ]
     },
     "metadata": {},
     "output_type": "display_data"
    }
   ],
   "source": [
    "# Run GMM model for 50 times and plot the distribution\n",
    "iterations = []\n",
    "for i in range(50):\n",
    "    step = Gaussian_kmean(data, data_means, data_covar, clf.labels_)\n",
    "    iterations.append(step)\n",
    "counts = collections.Counter(iterations)\n",
    "max_count = sorted(counts.items(), key=operator.itemgetter(1))[-1][1]\n",
    "max_step = sorted(counts.items(), key=operator.itemgetter(0))[-1][0]\n",
    "\n",
    "fig, ax = plt.subplots()\n",
    "fig.set_size_inches(12, 6)\n",
    "n, bins, patches = plt.hist(iterations, len(iterations)+2, facecolor='b', alpha=0.75)\n",
    "plt.xlabel('Iterations')\n",
    "plt.ylabel('Times')\n",
    "plt.title('Converging iteration distribution')\n",
    "plt.axis([0, max_step+2, 0, max_count+1])\n",
    "plt.grid(True)\n",
    "plt.show()"
   ]
  },
  {
   "cell_type": "code",
   "execution_count": 16,
   "metadata": {},
   "outputs": [
    {
     "data": {
      "text/plain": [
       "'As shown by the histogram above, when k means is utilized to cluster, convergence is reached quicker. This is because we are using kmeans to allocate cluster centre as opposed to randomly assigning, which makes it better as the dataset is seperable to begin with and that is identified by the algorithm.'"
      ]
     },
     "execution_count": 16,
     "metadata": {},
     "output_type": "execute_result"
    }
   ],
   "source": [
    "# Compare between part (a) and (b)\n",
    "\"\"\"As shown by the histogram above, when k means is utilized to cluster, convergence is reached quicker. This is because we are using kmeans to allocate cluster centre as opposed to randomly assigning, which makes it better as the dataset is seperable to begin with and that is identified by the algorithm.\"\"\""
   ]
  },
  {
   "cell_type": "code",
   "execution_count": null,
   "metadata": {},
   "outputs": [],
   "source": []
  }
 ],
 "metadata": {
  "colab": {
   "name": "GMM2.ipynb",
   "provenance": [],
   "version": "0.3.2"
  },
  "kernelspec": {
   "display_name": "Python 3",
   "language": "python",
   "name": "python3"
  },
  "language_info": {
   "codemirror_mode": {
    "name": "ipython",
    "version": 3
   },
   "file_extension": ".py",
   "mimetype": "text/x-python",
   "name": "python",
   "nbconvert_exporter": "python",
   "pygments_lexer": "ipython3",
   "version": "3.6.5"
  }
 },
 "nbformat": 4,
 "nbformat_minor": 1
}
